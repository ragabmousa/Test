{
  "nbformat": 4,
  "nbformat_minor": 0,
  "metadata": {
    "colab": {
      "provenance": [],
      "mount_file_id": "103_On1UFZ-OLjh2MsCUvBc2f-27LfA6X",
      "authorship_tag": "ABX9TyNMm8WGuSPMBgK2ETJoMqxf",
      "include_colab_link": true
    },
    "kernelspec": {
      "name": "python3",
      "display_name": "Python 3"
    },
    "language_info": {
      "name": "python"
    }
  },
  "cells": [
    {
      "cell_type": "markdown",
      "metadata": {
        "id": "view-in-github",
        "colab_type": "text"
      },
      "source": [
        "<a href=\"https://colab.research.google.com/github/ragabmousa/Test/blob/master/Joe%20Model.ipynb\" target=\"_parent\"><img src=\"https://colab.research.google.com/assets/colab-badge.svg\" alt=\"Open In Colab\"/></a>"
      ]
    },
    {
      "cell_type": "code",
      "execution_count": 22,
      "metadata": {
        "colab": {
          "base_uri": "https://localhost:8080/",
          "height": 106
        },
        "id": "TNG-604-_wlu",
        "outputId": "cd770896-a02c-46a8-90b0-5160bf43b9e6"
      },
      "outputs": [
        {
          "output_type": "error",
          "ename": "SyntaxError",
          "evalue": "unterminated string literal (detected at line 16) (<ipython-input-22-7b687b7863a4>, line 16)",
          "traceback": [
            "\u001b[0;36m  File \u001b[0;32m\"<ipython-input-22-7b687b7863a4>\"\u001b[0;36m, line \u001b[0;32m16\u001b[0m\n\u001b[0;31m    df = df.dropna(subset=['X1', 'X2', 'X3', 'X4', 'X5,'X6', 'Y'])\u001b[0m\n\u001b[0m                                                               ^\u001b[0m\n\u001b[0;31mSyntaxError\u001b[0m\u001b[0;31m:\u001b[0m unterminated string literal (detected at line 16)\n"
          ]
        }
      ],
      "source": [
        "# -*- coding: utf-8 -*-\n",
        "import pandas as pd\n",
        "from xgboost import XGBRegressor\n",
        "from sklearn.model_selection import train_test_split\n",
        "from sklearn.metrics import mean_squared_error, r2_score\n",
        "import joblib\n",
        "\n",
        "# === Load and clean data ===\n",
        "from google.colab import files\n",
        "uploaded = files.upload()\n",
        "''\n",
        "df = pd.read_excel('Model1_Input.xlsx', sheet_name=\"Model1_data\")\n",
        "df = df.replace([float('inf'), float('-inf')], pd.NA)\n",
        "column_headers = list(df.columns)\n",
        "print(column_headers)\n",
        "df = df.dropna(subset=['X1', 'X2', 'X3', 'X4', 'X5,'X6', 'Y'])\n",
        "\n",
        "# === Define features and target ===\n",
        "X = df[['X1', 'X2', 'X3', 'X4', 'X5,'X6']]\n",
        "y = df['Y']\n",
        "\n",
        "# === Train/test split ===\n",
        "X_train, X_test, y_train, y_test = train_test_split(X, y, test_size=0.2, random_state=42)\n",
        "\n",
        "# === Train XGBoost model ===\n",
        "xgb_model = XGBRegressor(random_state=42, objective='reg:squarederror')\n",
        "xgb_model.fit(X_train, y_train)\n",
        "\n",
        "# === Evaluate model ===\n",
        "y_pred = xgb_model.predict(X_test)\n",
        "mse = mean_squared_error(y_test, y_pred)\n",
        "r2 = r2_score(y_test, y_pred)\n",
        "\n",
        "# Get feature importances from the trained model\n",
        "importance = xgb_model.feature_importances_\n",
        "feature_names = X.columns\n",
        "\n",
        "for name, score in zip(feature_names, importance):\n",
        "    print(f\"{name}: {score:.4f}\")\n",
        "\n",
        "print(\"📊 Model Evaluation:\")\n",
        "print(f\"  • Mean Squared Error (MSE): {mse:.4f}\")\n",
        "print(f\"  • R² Score: {r2:.4f}\")\n",
        "\n",
        "# === Save model ===\n",
        "joblib.dump(xgb_model, \"xgb_model.pkl\")\n",
        "print(\"✅ Model trained and saved as 'xgb_model.pkl'\")"
      ]
    },
    {
      "cell_type": "code",
      "source": [],
      "metadata": {
        "id": "0Md9cpEYcbyw"
      },
      "execution_count": null,
      "outputs": []
    },
    {
      "cell_type": "code",
      "source": [],
      "metadata": {
        "id": "Zik0t9EqZtDd"
      },
      "execution_count": null,
      "outputs": []
    },
    {
      "cell_type": "code",
      "source": [],
      "metadata": {
        "id": "C3IJoga7cNLi"
      },
      "execution_count": null,
      "outputs": []
    },
    {
      "cell_type": "code",
      "source": [],
      "metadata": {
        "id": "34K0In6wcM9o"
      },
      "execution_count": null,
      "outputs": []
    },
    {
      "cell_type": "code",
      "source": [],
      "metadata": {
        "id": "pXe_xl6NA61k"
      },
      "execution_count": null,
      "outputs": []
    }
  ]
}